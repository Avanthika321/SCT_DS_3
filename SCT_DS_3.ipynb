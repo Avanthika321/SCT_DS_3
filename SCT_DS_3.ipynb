{
  "nbformat": 4,
  "nbformat_minor": 0,
  "metadata": {
    "colab": {
      "provenance": []
    },
    "kernelspec": {
      "name": "python3",
      "display_name": "Python 3"
    },
    "language_info": {
      "name": "python"
    }
  },
  "cells": [
    {
      "cell_type": "code",
      "source": [
        "import pandas as pd\n",
        "import numpy as np\n",
        "import matplotlib.pyplot as plt\n",
        "import seaborn as sns\n",
        "from sklearn.model_selection import train_test_split\n",
        "from sklearn.tree import DecisionTreeClassifier, plot_tree\n",
        "from sklearn.preprocessing import LabelEncoder\n",
        "from sklearn.metrics import accuracy_score, confusion_matrix, classification_report"
      ],
      "metadata": {
        "id": "avvM-IDS0cOB"
      },
      "execution_count": 8,
      "outputs": []
    },
    {
      "cell_type": "code",
      "source": [
        "df=pd.read_csv(\"bank-additional-full.csv\",sep=';')\n",
        "df.head()"
      ],
      "metadata": {
        "collapsed": true,
        "id": "8j5xGI2m1WAA"
      },
      "execution_count": null,
      "outputs": []
    },
    {
      "cell_type": "code",
      "source": [
        "df.info()\n",
        "print(\"\\nTarget variable distribution:\\n\",df['y'].value_counts())\n"
      ],
      "metadata": {
        "id": "hKaHKSdP1nhZ"
      },
      "execution_count": null,
      "outputs": []
    },
    {
      "cell_type": "code",
      "source": [
        "df_encoded=df.copy()\n",
        "le=LabelEncoder()\n",
        "for column in df_encoded.select_dtypes(include='object').columns:\n",
        " df_encoded[column]=le.fit_transform(df_encoded[column])"
      ],
      "metadata": {
        "id": "WTGeVJVV2MGI"
      },
      "execution_count": 13,
      "outputs": []
    },
    {
      "cell_type": "code",
      "source": [
        "X = df_encoded.drop('y',axis=1)\n",
        "y = df_encoded['y']"
      ],
      "metadata": {
        "id": "07Ivj2-r3LBy"
      },
      "execution_count": 17,
      "outputs": []
    },
    {
      "cell_type": "code",
      "source": [
        "X_train,X_test,y_train,y_test=train_test_split(X,y,test_size=0.2,random_state=5)"
      ],
      "metadata": {
        "id": "KHUXUPUW4OHO"
      },
      "execution_count": 18,
      "outputs": []
    },
    {
      "cell_type": "code",
      "source": [
        "model=DecisionTreeClassifier(random_state=5)\n",
        "model.fit(X_train,y_train)"
      ],
      "metadata": {
        "id": "fGdOyQUp4k88"
      },
      "execution_count": null,
      "outputs": []
    },
    {
      "cell_type": "code",
      "source": [
        "y_pred=model.predict(X_test)\n",
        "print(\"Accuracy:\",accuracy_score(y_test,y_pred))\n",
        "print(\"\\nClassification Report\\n\",classification_report(y_test,y_pred))\n",
        "print(\"\\nConfused Matrix:\\n\",confusion_matrix(y_test,y_pred))"
      ],
      "metadata": {
        "id": "UJia66pS40oX"
      },
      "execution_count": null,
      "outputs": []
    },
    {
      "cell_type": "code",
      "source": [
        "plt.figure(figsize=(30,10))\n",
        "plot_tree(model,feature_names=X.columns,class_names=[\"NO\",\"YES\"],filled=True,max_depth=3)\n",
        "plt.show()"
      ],
      "metadata": {
        "id": "BxA64PVe6E-q"
      },
      "execution_count": null,
      "outputs": []
    },
    {
      "cell_type": "code",
      "source": [
        "feature_importances = pd.Series(model.feature_importances_, index=X.columns)\n",
        "top_feature = feature_importances.idxmax()\n",
        "print(\" Most important feature influencing the decision:\", top_feature)"
      ],
      "metadata": {
        "id": "MX0p2ytD7aby"
      },
      "execution_count": null,
      "outputs": []
    }
  ]
}